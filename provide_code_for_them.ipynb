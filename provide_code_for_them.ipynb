{
  "cells": [
    {
      "cell_type": "markdown",
      "metadata": {
        "id": "view-in-github",
        "colab_type": "text"
      },
      "source": [
        "<a href=\"https://colab.research.google.com/github/BSSHV-Cronus/Socail_spotlight/blob/main/provide_code_for_them.ipynb\" target=\"_parent\"><img src=\"https://colab.research.google.com/assets/colab-badge.svg\" alt=\"Open In Colab\"/></a>"
      ]
    },
    {
      "cell_type": "markdown",
      "source": [
        "## Advanced Visualizations for Crop Production Data Analysis\n",
        "\n",
        "Here's some example code demonstrating advanced visualizations for your crop production data analysis:\n",
        "\n",
        "**1. Interactive Map (using Folium):**"
      ],
      "metadata": {
        "id": "mSwuRJ86hwTO"
      }
    },
    {
      "cell_type": "code",
      "source": [
        "import folium\n",
        "\n",
        "# Assuming your data has latitude and longitude information for districts\n",
        "# (replace with actual column names if different)\n",
        "df_map = df[df['Latitude'].notna() & df['Longitude'].notna()]\n",
        "\n",
        "# Create base map\n",
        "m = folium.Map(location=[20, 78], zoom_start=4)\n",
        "\n",
        "# Define a function to generate markers with popup information\n",
        "def create_marker(row):\n",
        "  folium.Marker(\n",
        "      location=[row['Latitude'], row['Longitude']],\n",
        "      popup=f\"District: {row['District_Name']}<br>Crop: {row['Crop']}<br>Production: {row['Production']} tonnes\"\n",
        "  ).add_to(m)\n",
        "\n",
        "# Apply the function to each data point\n",
        "df_map.apply(create_marker, axis=1)\n",
        "\n",
        "# Display the map\n",
        "m"
      ],
      "outputs": [],
      "execution_count": null,
      "metadata": {
        "id": "0WQHFst2hwTR"
      }
    },
    {
      "cell_type": "markdown",
      "source": [
        "**2. FacetGrid with Subplots (using Seaborn):**"
      ],
      "metadata": {
        "id": "ery_SZ-lhwTS"
      }
    },
    {
      "cell_type": "code",
      "source": [
        "import seaborn as sns\n",
        "\n",
        "# Example with Crop and Season as subplot factors\n",
        "sns.FacetGrid(df, col='Season', row='Crop').map(plt.scatter, 'Area', 'Production')\n",
        "plt.suptitle('Area vs Production by Crop and Season')\n",
        "plt.show()"
      ],
      "outputs": [],
      "execution_count": null,
      "metadata": {
        "id": "lOhaYicshwTS"
      }
    },
    {
      "cell_type": "markdown",
      "source": [
        "**3. 3D Scatter Plot (using plotly):**"
      ],
      "metadata": {
        "id": "gN1AXhQ2hwTS"
      }
    },
    {
      "cell_type": "code",
      "source": [
        "from plotly.graph_objs import Scatter3d\n",
        "\n",
        "# Assuming additional feature 'Rainfall' is present\n",
        "data = [\n",
        "    Scatter3d(\n",
        "        x=df[df['Crop'] == 'Wheat']['Area'],\n",
        "        y=df[df['Crop'] == 'Wheat']['Production'],\n",
        "        z=df[df['Crop'] == 'Wheat']['Rainfall'],\n",
        "        name='Wheat'\n",
        "    ),\n",
        "    # Add similar traces for other crops\n",
        "]\n",
        "\n",
        "layout = dict(title='Production vs Area and Rainfall (Wheat)')\n",
        "fig = dict(data=data, layout=layout)\n",
        "fig.show()"
      ],
      "outputs": [],
      "execution_count": null,
      "metadata": {
        "id": "WBFbdF4EhwTT"
      }
    },
    {
      "cell_type": "markdown",
      "source": [
        "**4. Animated Time Series Plot (using plotly):**"
      ],
      "metadata": {
        "id": "Zym73_pEhwTT"
      }
    },
    {
      "cell_type": "code",
      "source": [
        "from plotly.express import animation\n",
        "\n",
        "# Assuming data is aggregated by Crop_Year and Crop\n",
        "animation_data = df.groupby(['Crop_Year', 'Crop'])['Production'].sum().reset_index()\n",
        "\n",
        "fig = animation.animate(\n",
        "    animation_data,\n",
        "    x='Crop_Year',\n",
        "    y='Production',\n",
        "    animation_group='Crop',\n",
        "    color='Crop'\n",
        ")\n",
        "\n",
        "fig.update_layout(title='Crop Production Over Time (Animated)')\n",
        "fig.show()"
      ],
      "outputs": [],
      "execution_count": null,
      "metadata": {
        "id": "1UzhgbHchwTT"
      }
    },
    {
      "cell_type": "markdown",
      "source": [
        "**5. Parallel Coordinates Plot (using pandas-profiling):**"
      ],
      "metadata": {
        "id": "u8--zhQnhwTT"
      }
    },
    {
      "cell_type": "code",
      "source": [
        "from pandas_profiling import ProfileReport\n",
        "\n",
        "# Assuming your data has multiple categorical features\n",
        "profile = ProfileReport(df, minimal=True, explorative=True)\n",
        "profile.plot_ بوكس بلوت (kind='parallel_coordinates')  # Replace 'بوكس بلوت' with actual text 'box'\n",
        "profile.save(filename=\"parallel_coordinates.html\")"
      ],
      "outputs": [],
      "execution_count": null,
      "metadata": {
        "id": "kKCIryzAhwTU"
      }
    },
    {
      "cell_type": "markdown",
      "source": [
        "**Note:**\n",
        "\n",
        "* These examples require additional library installations (`folium`, `seaborn`, `plotly`, `pandas-profiling`).\n",
        "* Modify the code based on your specific data structure and column names.\n",
        "* Explore the documentation of these libraries for further customization options."
      ],
      "metadata": {
        "id": "uNB2EMIfhwTU"
      }
    }
  ],
  "metadata": {
    "colab": {
      "provenance": [],
      "include_colab_link": true
    },
    "kernelspec": {
      "display_name": "Python 3",
      "name": "python3"
    }
  },
  "nbformat": 4,
  "nbformat_minor": 0
}